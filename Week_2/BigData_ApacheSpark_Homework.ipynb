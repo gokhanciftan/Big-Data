{
  "cells": [
    {
      "cell_type": "code",
      "execution_count": 1,
      "metadata": {
        "colab": {
          "base_uri": "https://localhost:8080/"
        },
        "id": "iN8HM30fsHjZ",
        "outputId": "fbcd8b37-f531-42e8-d67f-9c294f219433"
      },
      "outputs": [
        {
          "name": "stdout",
          "output_type": "stream",
          "text": [
            "spark-3.2.1-bin-had 100%[===================>] 287.03M  12.7MB/s    in 24s     \n",
            "\u001b[2K     \u001b[90m━━━━━━━━━━━━━━━━━━━━━━━━━━━━━━━━━━━━━━━━\u001b[0m \u001b[32m281.4/281.4 MB\u001b[0m \u001b[31m2.7 MB/s\u001b[0m eta \u001b[36m0:00:00\u001b[0m\n",
            "\u001b[?25h  Preparing metadata (setup.py) ... \u001b[?25l\u001b[?25hdone\n",
            "\u001b[2K     \u001b[90m━━━━━━━━━━━━━━━━━━━━━━━━━━━━━━━━━━━━━━━━\u001b[0m \u001b[32m199.0/199.0 kB\u001b[0m \u001b[31m19.3 MB/s\u001b[0m eta \u001b[36m0:00:00\u001b[0m\n",
            "\u001b[?25h  Building wheel for pyspark (setup.py) ... \u001b[?25l\u001b[?25hdone\n",
            "  Preparing metadata (setup.py) ... \u001b[?25l\u001b[?25hdone\n",
            "  Building wheel for delta (setup.py) ... \u001b[?25l\u001b[?25hdone\n"
          ]
        }
      ],
      "source": [
        "!apt-get -qq update > /tmp/apt.out\n",
        "!apt-get install -y -qq openjdk-11-jdk-headless\n",
        "!(wget -q --show-progress -nc https://archive.apache.org/dist/spark/spark-3.2.1/spark-3.2.1-bin-hadoop3.2.tgz)\n",
        "!tar xf spark-3.2.1-bin-hadoop3.2.tgz\n",
        "try:\n",
        "  import pyspark, findspark, delta\n",
        "except:\n",
        "  %pip install -q --upgrade pyspark==3.2.1\n",
        "  %pip install -q findspark\n",
        "  %pip install -q delta"
      ]
    },
    {
      "cell_type": "code",
      "execution_count": 2,
      "metadata": {
        "colab": {
          "base_uri": "https://localhost:8080/"
        },
        "id": "mrzkPZv3yM2P",
        "outputId": "9ef8adfb-3c92-463b-d86c-64333d03339d"
      },
      "outputs": [
        {
          "name": "stdout",
          "output_type": "stream",
          "text": [
            "Requirement already satisfied: gcsfs in /usr/local/lib/python3.10/dist-packages (2023.6.0)\n",
            "Requirement already satisfied: aiohttp!=4.0.0a0,!=4.0.0a1 in /usr/local/lib/python3.10/dist-packages (from gcsfs) (3.9.3)\n",
            "Requirement already satisfied: decorator>4.1.2 in /usr/local/lib/python3.10/dist-packages (from gcsfs) (4.4.2)\n",
            "Requirement already satisfied: fsspec==2023.6.0 in /usr/local/lib/python3.10/dist-packages (from gcsfs) (2023.6.0)\n",
            "Requirement already satisfied: google-auth>=1.2 in /usr/local/lib/python3.10/dist-packages (from gcsfs) (2.27.0)\n",
            "Requirement already satisfied: google-auth-oauthlib in /usr/local/lib/python3.10/dist-packages (from gcsfs) (1.2.0)\n",
            "Requirement already satisfied: google-cloud-storage in /usr/local/lib/python3.10/dist-packages (from gcsfs) (2.8.0)\n",
            "Requirement already satisfied: requests in /usr/local/lib/python3.10/dist-packages (from gcsfs) (2.31.0)\n",
            "Requirement already satisfied: aiosignal>=1.1.2 in /usr/local/lib/python3.10/dist-packages (from aiohttp!=4.0.0a0,!=4.0.0a1->gcsfs) (1.3.1)\n",
            "Requirement already satisfied: attrs>=17.3.0 in /usr/local/lib/python3.10/dist-packages (from aiohttp!=4.0.0a0,!=4.0.0a1->gcsfs) (23.2.0)\n",
            "Requirement already satisfied: frozenlist>=1.1.1 in /usr/local/lib/python3.10/dist-packages (from aiohttp!=4.0.0a0,!=4.0.0a1->gcsfs) (1.4.1)\n",
            "Requirement already satisfied: multidict<7.0,>=4.5 in /usr/local/lib/python3.10/dist-packages (from aiohttp!=4.0.0a0,!=4.0.0a1->gcsfs) (6.0.5)\n",
            "Requirement already satisfied: yarl<2.0,>=1.0 in /usr/local/lib/python3.10/dist-packages (from aiohttp!=4.0.0a0,!=4.0.0a1->gcsfs) (1.9.4)\n",
            "Requirement already satisfied: async-timeout<5.0,>=4.0 in /usr/local/lib/python3.10/dist-packages (from aiohttp!=4.0.0a0,!=4.0.0a1->gcsfs) (4.0.3)\n",
            "Requirement already satisfied: cachetools<6.0,>=2.0.0 in /usr/local/lib/python3.10/dist-packages (from google-auth>=1.2->gcsfs) (5.3.3)\n",
            "Requirement already satisfied: pyasn1-modules>=0.2.1 in /usr/local/lib/python3.10/dist-packages (from google-auth>=1.2->gcsfs) (0.3.0)\n",
            "Requirement already satisfied: rsa<5,>=3.1.4 in /usr/local/lib/python3.10/dist-packages (from google-auth>=1.2->gcsfs) (4.9)\n",
            "Requirement already satisfied: requests-oauthlib>=0.7.0 in /usr/local/lib/python3.10/dist-packages (from google-auth-oauthlib->gcsfs) (1.4.0)\n",
            "Requirement already satisfied: google-api-core!=2.0.*,!=2.1.*,!=2.2.*,!=2.3.0,<3.0.0dev,>=1.31.5 in /usr/local/lib/python3.10/dist-packages (from google-cloud-storage->gcsfs) (2.11.1)\n",
            "Requirement already satisfied: google-cloud-core<3.0dev,>=2.3.0 in /usr/local/lib/python3.10/dist-packages (from google-cloud-storage->gcsfs) (2.3.3)\n",
            "Requirement already satisfied: google-resumable-media>=2.3.2 in /usr/local/lib/python3.10/dist-packages (from google-cloud-storage->gcsfs) (2.7.0)\n",
            "Requirement already satisfied: charset-normalizer<4,>=2 in /usr/local/lib/python3.10/dist-packages (from requests->gcsfs) (3.3.2)\n",
            "Requirement already satisfied: idna<4,>=2.5 in /usr/local/lib/python3.10/dist-packages (from requests->gcsfs) (3.6)\n",
            "Requirement already satisfied: urllib3<3,>=1.21.1 in /usr/local/lib/python3.10/dist-packages (from requests->gcsfs) (2.0.7)\n",
            "Requirement already satisfied: certifi>=2017.4.17 in /usr/local/lib/python3.10/dist-packages (from requests->gcsfs) (2024.2.2)\n",
            "Requirement already satisfied: googleapis-common-protos<2.0.dev0,>=1.56.2 in /usr/local/lib/python3.10/dist-packages (from google-api-core!=2.0.*,!=2.1.*,!=2.2.*,!=2.3.0,<3.0.0dev,>=1.31.5->google-cloud-storage->gcsfs) (1.63.0)\n",
            "Requirement already satisfied: protobuf!=3.20.0,!=3.20.1,!=4.21.0,!=4.21.1,!=4.21.2,!=4.21.3,!=4.21.4,!=4.21.5,<5.0.0.dev0,>=3.19.5 in /usr/local/lib/python3.10/dist-packages (from google-api-core!=2.0.*,!=2.1.*,!=2.2.*,!=2.3.0,<3.0.0dev,>=1.31.5->google-cloud-storage->gcsfs) (3.20.3)\n",
            "Requirement already satisfied: google-crc32c<2.0dev,>=1.0 in /usr/local/lib/python3.10/dist-packages (from google-resumable-media>=2.3.2->google-cloud-storage->gcsfs) (1.5.0)\n",
            "Requirement already satisfied: pyasn1<0.6.0,>=0.4.6 in /usr/local/lib/python3.10/dist-packages (from pyasn1-modules>=0.2.1->google-auth>=1.2->gcsfs) (0.5.1)\n",
            "Requirement already satisfied: oauthlib>=3.0.0 in /usr/local/lib/python3.10/dist-packages (from requests-oauthlib>=0.7.0->google-auth-oauthlib->gcsfs) (3.2.2)\n"
          ]
        }
      ],
      "source": [
        "!pip install gcsfs"
      ]
    },
    {
      "cell_type": "code",
      "execution_count": 3,
      "metadata": {
        "id": "_NQybIdovnH7"
      },
      "outputs": [],
      "source": [
        "!(wget -O /content/spark-3.2.1-bin-hadoop3.2/jars/gcs-connector-hadoop2-latest.jar  -q https://storage.googleapis.com/hadoop-lib/gcs/gcs-connector-hadoop3.2-latest.jar)"
      ]
    },
    {
      "cell_type": "code",
      "execution_count": 4,
      "metadata": {
        "colab": {
          "base_uri": "https://localhost:8080/",
          "height": 219
        },
        "id": "RofOJZjTsPPK",
        "outputId": "b89f7d26-9df0-4fed-8525-6dc5a340aace"
      },
      "outputs": [
        {
          "data": {
            "text/html": [
              "\n",
              "            <div>\n",
              "                <p><b>SparkSession - in-memory</b></p>\n",
              "                \n",
              "        <div>\n",
              "            <p><b>SparkContext</b></p>\n",
              "\n",
              "            <p><a href=\"http://7c613a28aa7c:4040\">Spark UI</a></p>\n",
              "\n",
              "            <dl>\n",
              "              <dt>Version</dt>\n",
              "                <dd><code>v3.2.1</code></dd>\n",
              "              <dt>Master</dt>\n",
              "                <dd><code>local[*]</code></dd>\n",
              "              <dt>AppName</dt>\n",
              "                <dd><code>MyApp</code></dd>\n",
              "            </dl>\n",
              "        </div>\n",
              "        \n",
              "            </div>\n",
              "        "
            ],
            "text/plain": [
              "<pyspark.sql.session.SparkSession at 0x7ccc143f2bc0>"
            ]
          },
          "execution_count": 4,
          "metadata": {},
          "output_type": "execute_result"
        }
      ],
      "source": [
        "import findspark\n",
        "import pyspark\n",
        "import os\n",
        "from pyspark.sql.functions import *\n",
        "\n",
        "os.environ[\"JAVA_HOME\"] = \"/usr/lib/jvm/java-11-openjdk-amd64\"\n",
        "os.environ[\"SPARK_HOME\"] = \"/content/spark-3.2.1-bin-hadoop3.2\"\n",
        "\n",
        "findspark.init()\n",
        "MAX_MEMORY=\"8g\"\n",
        "\n",
        "spark = (pyspark.sql.SparkSession.builder.appName(\"MyApp\")\n",
        "    .config(\"spark.executor.memory\", MAX_MEMORY)\n",
        "    .config(\"spark.driver.memory\", MAX_MEMORY)\n",
        "    .getOrCreate()\n",
        "    )\n",
        "\n",
        "spark"
      ]
    },
    {
      "cell_type": "code",
      "execution_count": null,
      "metadata": {
        "id": "lNk7dRFywBFb"
      },
      "outputs": [],
      "source": [
        "#spark.stop()"
      ]
    },
    {
      "cell_type": "code",
      "execution_count": 5,
      "metadata": {
        "colab": {
          "base_uri": "https://localhost:8080/"
        },
        "id": "z80kjlGo46Se",
        "outputId": "29a6ff4a-05b4-4df0-f697-13561909536d"
      },
      "outputs": [
        {
          "name": "stdout",
          "output_type": "stream",
          "text": [
            "--2024-03-13 19:39:51--  https://storage.googleapis.com/bigdata_training/Titanic.parquet\n",
            "Resolving storage.googleapis.com (storage.googleapis.com)... 64.233.188.207, 64.233.189.207, 108.177.97.207, ...\n",
            "Connecting to storage.googleapis.com (storage.googleapis.com)|64.233.188.207|:443... connected.\n",
            "HTTP request sent, awaiting response... 200 OK\n",
            "Length: 40013 (39K) [application/octet-stream]\n",
            "Saving to: ‘Titanic.parquet’\n",
            "\n",
            "Titanic.parquet     100%[===================>]  39.08K  --.-KB/s    in 0.05s   \n",
            "\n",
            "2024-03-13 19:39:53 (720 KB/s) - ‘Titanic.parquet’ saved [40013/40013]\n",
            "\n"
          ]
        }
      ],
      "source": [
        "!wget https://storage.googleapis.com/bigdata_training/Titanic.parquet"
      ]
    },
    {
      "cell_type": "code",
      "execution_count": 6,
      "metadata": {
        "colab": {
          "base_uri": "https://localhost:8080/"
        },
        "id": "R5O8pGvXsQJi",
        "outputId": "98490d4d-1921-433e-f82b-5ec93674a09e"
      },
      "outputs": [
        {
          "name": "stdout",
          "output_type": "stream",
          "text": [
            "+-----------+--------+------+--------------------+------+----+-----+-----+----------------+-------+-----+--------+\n",
            "|PassengerId|Survived|Pclass|                Name|   Sex| Age|SibSp|Parch|          Ticket|   Fare|Cabin|Embarked|\n",
            "+-----------+--------+------+--------------------+------+----+-----+-----+----------------+-------+-----+--------+\n",
            "|          1|       0|     3|Braund, Mr. Owen ...|  male|22.0|    1|    0|       A/5 21171|   7.25| null|       S|\n",
            "|          2|       1|     1|Cumings, Mrs. Joh...|female|38.0|    1|    0|        PC 17599|71.2833|  C85|       C|\n",
            "|          3|       1|     3|Heikkinen, Miss. ...|female|26.0|    0|    0|STON/O2. 3101282|  7.925| null|       S|\n",
            "|          4|       1|     1|Futrelle, Mrs. Ja...|female|35.0|    1|    0|          113803|   53.1| C123|       S|\n",
            "|          5|       0|     3|Allen, Mr. Willia...|  male|35.0|    0|    0|          373450|   8.05| null|       S|\n",
            "|          6|       0|     3|    Moran, Mr. James|  male|null|    0|    0|          330877| 8.4583| null|       Q|\n",
            "|          7|       0|     1|McCarthy, Mr. Tim...|  male|54.0|    0|    0|           17463|51.8625|  E46|       S|\n",
            "|          8|       0|     3|Palsson, Master. ...|  male| 2.0|    3|    1|          349909| 21.075| null|       S|\n",
            "|          9|       1|     3|Johnson, Mrs. Osc...|female|27.0|    0|    2|          347742|11.1333| null|       S|\n",
            "|         10|       1|     2|Nasser, Mrs. Nich...|female|14.0|    1|    0|          237736|30.0708| null|       C|\n",
            "|         11|       1|     3|Sandstrom, Miss. ...|female| 4.0|    1|    1|         PP 9549|   16.7|   G6|       S|\n",
            "|         12|       1|     1|Bonnell, Miss. El...|female|58.0|    0|    0|          113783|  26.55| C103|       S|\n",
            "|         13|       0|     3|Saundercock, Mr. ...|  male|20.0|    0|    0|       A/5. 2151|   8.05| null|       S|\n",
            "|         14|       0|     3|Andersson, Mr. An...|  male|39.0|    1|    5|          347082| 31.275| null|       S|\n",
            "|         15|       0|     3|Vestrom, Miss. Hu...|female|14.0|    0|    0|          350406| 7.8542| null|       S|\n",
            "|         16|       1|     2|Hewlett, Mrs. (Ma...|female|55.0|    0|    0|          248706|   16.0| null|       S|\n",
            "|         17|       0|     3|Rice, Master. Eugene|  male| 2.0|    4|    1|          382652| 29.125| null|       Q|\n",
            "|         18|       1|     2|Williams, Mr. Cha...|  male|null|    0|    0|          244373|   13.0| null|       S|\n",
            "|         19|       0|     3|Vander Planke, Mr...|female|31.0|    1|    0|          345763|   18.0| null|       S|\n",
            "|         20|       1|     3|Masselmani, Mrs. ...|female|null|    0|    0|            2649|  7.225| null|       C|\n",
            "+-----------+--------+------+--------------------+------+----+-----+-----+----------------+-------+-----+--------+\n",
            "only showing top 20 rows\n",
            "\n"
          ]
        }
      ],
      "source": [
        "df_passengers = spark.read.parquet(\"Titanic.parquet\")\n",
        "df_passengers.show()"
      ]
    },
    {
      "cell_type": "code",
      "execution_count": 15,
      "metadata": {
        "colab": {
          "base_uri": "https://localhost:8080/"
        },
        "id": "LirhBcWy5lVI",
        "outputId": "372c82ef-afe6-4d0a-b20d-c23ba4e344f5"
      },
      "outputs": [
        {
          "name": "stdout",
          "output_type": "stream",
          "text": [
            "+--------------------+----------------+----------------+\n",
            "|               Durum|Max_Bilet_Fiyatı|Min_Bilet_Fiyatı|\n",
            "+--------------------+----------------+----------------+\n",
            "|Hayatta Kalamayanlar|           263.0|             0.0|\n",
            "|    Hayatta Kalanlar|        512.3292|             0.0|\n",
            "+--------------------+----------------+----------------+\n",
            "\n"
          ]
        }
      ],
      "source": [
        "#Gemiden kurtulma durumuna göre ödenen en yüksek ve en düşük bilet fiyatını bulunuz.\n",
        "df_passengers.groupBy(\"Survived\") \\\n",
        "    .agg(max(\"Fare\").alias(\"Max_Bilet_Fiyatı\"), min(\"Fare\").alias(\"Min_Bilet_Fiyatı\")) \\\n",
        "    .withColumn(\"Durum\", when(col(\"Survived\") == 1, \"Hayatta Kalanlar\").otherwise(\"Hayatta Kalamayanlar\")) \\\n",
        "    .select(\"Durum\", \"Max_Bilet_Fiyatı\", \"Min_Bilet_Fiyatı\") \\\n",
        "    .show()\n",
        "\n"
      ]
    },
    {
      "cell_type": "code",
      "execution_count": 13,
      "metadata": {
        "colab": {
          "base_uri": "https://localhost:8080/"
        },
        "id": "E45wiWDy6K6f",
        "outputId": "d4e6e89e-5afe-4443-aee4-3f82a5f21a25"
      },
      "outputs": [
        {
          "name": "stdout",
          "output_type": "stream",
          "text": [
            "+------+------------------+\n",
            "|   Sex|      Ortalama_Yaş|\n",
            "+------+------------------+\n",
            "|female| 33.90673575129534|\n",
            "|  male|34.480366492146594|\n",
            "+------+------------------+\n",
            "\n"
          ]
        }
      ],
      "source": [
        "#Yolcuların(18 yaş ve altı çocuklar hariç) cinsiyete göre ortalama yaşlarını bulunuz.\n",
        "df_passengers.where(col(\"Age\") > 18) \\\n",
        "             .groupBy(\"Sex\") \\\n",
        "             .agg(avg(\"Age\").alias(\"Ortalama_Yaş\")) \\\n",
        ".show()"
      ]
    },
    {
      "cell_type": "code",
      "execution_count": 7,
      "metadata": {
        "colab": {
          "base_uri": "https://localhost:8080/"
        },
        "id": "ZA6C1-MD7B25",
        "outputId": "4c5377e6-8d50-4531-ee88-be6728d0582e"
      },
      "outputs": [
        {
          "name": "stdout",
          "output_type": "stream",
          "text": [
            "+-----------+------------------------------------------+----------------------------------------------------------------------------------+\n",
            "|      Cabin|                               Erkek Yolcu|                                                                       Kadın Yolcu|\n",
            "+-----------+------------------------------------------+----------------------------------------------------------------------------------+\n",
            "|       C123|               Futrelle, Mr. Jacques Heath|                                      Futrelle, Mrs. Jacques Heath (Lily May Peel)|\n",
            "|        D33|                 Harper, Mr. Henry Sleeper|                                          Harper, Mrs. Henry Sleeper (Myna Haxtun)|\n",
            "|C23 C25 C27|                         Fortune, Mr. Mark|                                                        Fortune, Miss. Mabel Helen|\n",
            "|C23 C25 C27|            Fortune, Mr. Charles Alexander|                                                        Fortune, Miss. Mabel Helen|\n",
            "|         C2|                 Pears, Mr. Thomas Clinton|                                                 Pears, Mrs. Thomas (Edith Wearne)|\n",
            "|        C83|               Harris, Mr. Henry Birkhardt|                                      Harris, Mrs. Henry Birkhardt (Irene Wallach)|\n",
            "|        B49|                   Bishop, Mr. Dickinson H|                                           Bishop, Mrs. Dickinson H (Helen Walton)|\n",
            "|    C22 C26|            Allison, Master. Hudson Trevor|                                                      Allison, Miss. Helen Loraine|\n",
            "|    B58 B60|                  Baxter, Mr. Quigg Edmond|                                   Baxter, Mrs. James (Helene DeLaudeniere Chaput)|\n",
            "|        C65|Penasco y Castellana, Mr. Victor de Satode|Penasco y Castellana, Mrs. Victor de Satode (Maria Josefa Perez de Soto y Vallejo)|\n",
            "|          D|                    Levy, Mr. Rene Jacques|                                                           Ball, Mrs. (Ada E Hall)|\n",
            "|C23 C25 C27|                         Fortune, Mr. Mark|                                                    Fortune, Miss. Alice Elizabeth|\n",
            "|C23 C25 C27|            Fortune, Mr. Charles Alexander|                                                    Fortune, Miss. Alice Elizabeth|\n",
            "|        C78|               Minahan, Dr. William Edward|                                                            Minahan, Miss. Daisy E|\n",
            "|    B96 B98|       Carter, Master. William Thornton II|                                                         Carter, Miss. Lucile Polk|\n",
            "|    B96 B98|                Carter, Mr. William Ernest|                                                         Carter, Miss. Lucile Polk|\n",
            "|          D|                    Levy, Mr. Rene Jacques|                                      Jerwan, Mrs. Amin S (Marie Marthe Thuillard)|\n",
            "|        C93|              Hoyt, Mr. Frederick Maxfield|                                   Hoyt, Mrs. Frederick Maxfield (Jane Anne Forby)|\n",
            "|    C22 C26|            Allison, Master. Hudson Trevor|                                   Allison, Mrs. Hudson J C (Bessie Waldo Daniels)|\n",
            "|        B22|              Crosby, Capt. Edward Gifford|                                                           Crosby, Miss. Harriet R|\n",
            "|        E67|                         Taussig, Mr. Emil|                                            Taussig, Mrs. Emil (Tillie Mandelbaum)|\n",
            "|        E44|                 Silvey, Mr. William Baird|                                         Silvey, Mrs. William Baird (Alice Munger)|\n",
            "|        C68|                  Thayer, Mr. John Borland|                              Thayer, Mrs. John Borland (Marian Longstreth Morris)|\n",
            "|         F4|                 Becker, Master. Richard F|                                                       Becker, Miss. Marion Louise|\n",
            "|       C126|                  Taylor, Mr. Elmer Zebley|                                 Taylor, Mrs. Elmer Zebley (Juliet Cummins Wright)|\n",
            "|    B96 B98|       Carter, Master. William Thornton II|                                         Carter, Mrs. William Ernest (Lucile Polk)|\n",
            "|    B96 B98|                Carter, Mr. William Ernest|                                         Carter, Mrs. William Ernest (Lucile Polk)|\n",
            "|        B20|                   Dick, Mr. Albert Adrian|                                         Dick, Mrs. Albert Adrian (Vera Gillespie)|\n",
            "|         E8|             Chambers, Mr. Norman Campbell|                                    Chambers, Mrs. Norman Campbell (Bertha Griggs)|\n",
            "|       E121|                       Moor, Master. Meier|                                                                Moor, Mrs. (Beila)|\n",
            "|        C92|                  Goldenberg, Mr. Samuel L|                                      Goldenberg, Mrs. Samuel L (Edwiga Grabowska)|\n",
            "|        D35|             Beckwith, Mr. Richard Leonard|                                  Beckwith, Mrs. Richard Leonard (Sallie Monypeny)|\n",
            "+-----------+------------------------------------------+----------------------------------------------------------------------------------+\n",
            "\n"
          ]
        }
      ],
      "source": [
        "#Aynı kabinde yolculuk yapan erkek ve kadınların eşleşmesi yapılması için aşağıdaki sorgu yazılmışmış fakat sorguda ufak bir eksiklik var, eksik olan parçayı tamamlayınız.\n",
        "df_passengers.alias(\"m\") \\\n",
        ".join(df_passengers.alias(\"f\"),\n",
        "      on=((col(\"m.Cabin\")==col(\"f.Cabin\"))),\n",
        "      how=\"inner\") \\\n",
        ".where(col(\"f.Sex\")==\"male\") \\\n",
        ".where(col(\"m.Sex\")==\"female\") \\\n",
        ".select(col(\"m.Cabin\"),col(\"f.Name\").alias(\"Erkek Yolcu\"),col(\"m.Name\").alias(\"Kadın Yolcu\")).show(100,200)"
      ]
    },
    {
      "cell_type": "code",
      "execution_count": 22,
      "metadata": {
        "colab": {
          "base_uri": "https://localhost:8080/"
        },
        "id": "djyxza0s9II3",
        "outputId": "3028aaea-20cf-44b3-eb0b-f9ee1399cb75"
      },
      "outputs": [
        {
          "name": "stdout",
          "output_type": "stream",
          "text": [
            "+-----------+--------+------+--------------------+------+----+-----+-----+----------------+-------+-----+--------+-----------+\n",
            "|PassengerId|Survived|Pclass|                Name|   Sex| Age|SibSp|Parch|          Ticket|   Fare|Cabin|Embarked|AgeCategory|\n",
            "+-----------+--------+------+--------------------+------+----+-----+-----+----------------+-------+-----+--------+-----------+\n",
            "|          1|       0|     3|Braund, Mr. Owen ...|  male|22.0|    1|    0|       A/5 21171|   7.25| null|       S|   Yetişkin|\n",
            "|          2|       1|     1|Cumings, Mrs. Joh...|female|38.0|    1|    0|        PC 17599|71.2833|  C85|       C|   Yetişkin|\n",
            "|          3|       1|     3|Heikkinen, Miss. ...|female|26.0|    0|    0|STON/O2. 3101282|  7.925| null|       S|   Yetişkin|\n",
            "|          4|       1|     1|Futrelle, Mrs. Ja...|female|35.0|    1|    0|          113803|   53.1| C123|       S|   Yetişkin|\n",
            "|          5|       0|     3|Allen, Mr. Willia...|  male|35.0|    0|    0|          373450|   8.05| null|       S|   Yetişkin|\n",
            "|          6|       0|     3|    Moran, Mr. James|  male|null|    0|    0|          330877| 8.4583| null|       Q|   Yetişkin|\n",
            "|          7|       0|     1|McCarthy, Mr. Tim...|  male|54.0|    0|    0|           17463|51.8625|  E46|       S|   Yetişkin|\n",
            "|          8|       0|     3|Palsson, Master. ...|  male| 2.0|    3|    1|          349909| 21.075| null|       S|      Çocuk|\n",
            "|          9|       1|     3|Johnson, Mrs. Osc...|female|27.0|    0|    2|          347742|11.1333| null|       S|   Yetişkin|\n",
            "|         10|       1|     2|Nasser, Mrs. Nich...|female|14.0|    1|    0|          237736|30.0708| null|       C|       Genç|\n",
            "|         11|       1|     3|Sandstrom, Miss. ...|female| 4.0|    1|    1|         PP 9549|   16.7|   G6|       S|      Çocuk|\n",
            "|         12|       1|     1|Bonnell, Miss. El...|female|58.0|    0|    0|          113783|  26.55| C103|       S|   Yetişkin|\n",
            "|         13|       0|     3|Saundercock, Mr. ...|  male|20.0|    0|    0|       A/5. 2151|   8.05| null|       S|   Yetişkin|\n",
            "|         14|       0|     3|Andersson, Mr. An...|  male|39.0|    1|    5|          347082| 31.275| null|       S|   Yetişkin|\n",
            "|         15|       0|     3|Vestrom, Miss. Hu...|female|14.0|    0|    0|          350406| 7.8542| null|       S|       Genç|\n",
            "|         16|       1|     2|Hewlett, Mrs. (Ma...|female|55.0|    0|    0|          248706|   16.0| null|       S|   Yetişkin|\n",
            "|         17|       0|     3|Rice, Master. Eugene|  male| 2.0|    4|    1|          382652| 29.125| null|       Q|      Çocuk|\n",
            "|         18|       1|     2|Williams, Mr. Cha...|  male|null|    0|    0|          244373|   13.0| null|       S|   Yetişkin|\n",
            "|         19|       0|     3|Vander Planke, Mr...|female|31.0|    1|    0|          345763|   18.0| null|       S|   Yetişkin|\n",
            "|         20|       1|     3|Masselmani, Mrs. ...|female|null|    0|    0|            2649|  7.225| null|       C|   Yetişkin|\n",
            "+-----------+--------+------+--------------------+------+----+-----+-----+----------------+-------+-----+--------+-----------+\n",
            "only showing top 20 rows\n",
            "\n"
          ]
        }
      ],
      "source": [
        "#veriye yolcunun yaşına göre belirlenecek yeni bir kolon eklenmek isteniyor(AgeCategory). Kolon içeriğinde;\n",
        "#0-10 yaş arası yolcular -> Çocuk\n",
        "#11-18 yaş arası yolcular -> Genç\n",
        "#19 ve üstü yolcular -> Yetişkin\n",
        "#bilgisi yazılması isteniyor. Bu yeni kolonu ekleyiniz.\n",
        "df_passengers.withColumn(\"AgeCategory\", when(col(\"Age\").between(0, 10), \"Çocuk\").when(col(\"Age\").between(11, 18), \"Genç\").otherwise(\"Yetişkin\")).show()\n"
      ]
    },
    {
      "cell_type": "code",
      "execution_count": 24,
      "metadata": {
        "colab": {
          "base_uri": "https://localhost:8080/"
        },
        "id": "GmVuw1y2-bx_",
        "outputId": "22323171-0a01-4aed-af88-207b67edf193"
      },
      "outputs": [
        {
          "name": "stdout",
          "output_type": "stream",
          "text": [
            "+-----------+--------+------+--------------------+------+----+-----+-----+----------------+-------+-----+--------+-----------+\n",
            "|PassengerId|Survived|Pclass|                Name|   Sex| Age|SibSp|Parch|          Ticket|   Fare|Cabin|Embarked|AgeCategory|\n",
            "+-----------+--------+------+--------------------+------+----+-----+-----+----------------+-------+-----+--------+-----------+\n",
            "|          1|       0|     3|Braund, Mr. Owen ...|  male|22.0|    1|    0|       A/5 21171|   7.25| null|       S|   yetişkin|\n",
            "|          2|       1|     1|Cumings, Mrs. Joh...|female|38.0|    1|    0|        PC 17599|71.2833|  C85|       C|   yetişkin|\n",
            "|          3|       1|     3|Heikkinen, Miss. ...|female|26.0|    0|    0|STON/O2. 3101282|  7.925| null|       S|   yetişkin|\n",
            "|          4|       1|     1|Futrelle, Mrs. Ja...|female|35.0|    1|    0|          113803|   53.1| C123|       S|   yetişkin|\n",
            "|          5|       0|     3|Allen, Mr. Willia...|  male|35.0|    0|    0|          373450|   8.05| null|       S|   yetişkin|\n",
            "|          6|       0|     3|    Moran, Mr. James|  male|null|    0|    0|          330877| 8.4583| null|       Q|   yetişkin|\n",
            "|          7|       0|     1|McCarthy, Mr. Tim...|  male|54.0|    0|    0|           17463|51.8625|  E46|       S|   yetişkin|\n",
            "|          8|       0|     3|Palsson, Master. ...|  male| 2.0|    3|    1|          349909| 21.075| null|       S|      çocuk|\n",
            "|          9|       1|     3|Johnson, Mrs. Osc...|female|27.0|    0|    2|          347742|11.1333| null|       S|   yetişkin|\n",
            "|         10|       1|     2|Nasser, Mrs. Nich...|female|14.0|    1|    0|          237736|30.0708| null|       C|       genç|\n",
            "|         11|       1|     3|Sandstrom, Miss. ...|female| 4.0|    1|    1|         PP 9549|   16.7|   G6|       S|      çocuk|\n",
            "|         12|       1|     1|Bonnell, Miss. El...|female|58.0|    0|    0|          113783|  26.55| C103|       S|   yetişkin|\n",
            "|         13|       0|     3|Saundercock, Mr. ...|  male|20.0|    0|    0|       A/5. 2151|   8.05| null|       S|   yetişkin|\n",
            "|         14|       0|     3|Andersson, Mr. An...|  male|39.0|    1|    5|          347082| 31.275| null|       S|   yetişkin|\n",
            "|         15|       0|     3|Vestrom, Miss. Hu...|female|14.0|    0|    0|          350406| 7.8542| null|       S|       genç|\n",
            "|         16|       1|     2|Hewlett, Mrs. (Ma...|female|55.0|    0|    0|          248706|   16.0| null|       S|   yetişkin|\n",
            "|         17|       0|     3|Rice, Master. Eugene|  male| 2.0|    4|    1|          382652| 29.125| null|       Q|      çocuk|\n",
            "|         18|       1|     2|Williams, Mr. Cha...|  male|null|    0|    0|          244373|   13.0| null|       S|   yetişkin|\n",
            "|         19|       0|     3|Vander Planke, Mr...|female|31.0|    1|    0|          345763|   18.0| null|       S|   yetişkin|\n",
            "|         20|       1|     3|Masselmani, Mrs. ...|female|null|    0|    0|            2649|  7.225| null|       C|   yetişkin|\n",
            "+-----------+--------+------+--------------------+------+----+-----+-----+----------------+-------+-----+--------+-----------+\n",
            "only showing top 20 rows\n",
            "\n"
          ]
        }
      ],
      "source": [
        "#spark'ta bir dataframe sorgu içnide de kullanılabilir. AgeCategory(bir üst sorunın çıktısı olan kolon) kolonuna göre yolcu sayısını veren SQL sorgunu düzenleyiniz.\n",
        "df_passengers.createOrReplaceTempView(\"passengers\")\n",
        "spark.sql(\"select AgeCategory, count(*) as PassengerCount from (select *, case when age <= 10 then 'çocuk' when age <= 18 then 'genç' else 'yetişkin' end as AgeCategory from passengers) as t group by AgeCategory\").show()"
      ]
    }
  ],
  "metadata": {
    "colab": {
      "provenance": []
    },
    "kernelspec": {
      "display_name": "Python 3",
      "name": "python3"
    },
    "language_info": {
      "name": "python"
    }
  },
  "nbformat": 4,
  "nbformat_minor": 0
}
